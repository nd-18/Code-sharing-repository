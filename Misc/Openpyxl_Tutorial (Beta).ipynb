{
 "cells": [
  {
   "cell_type": "markdown",
   "id": "1146205b-71ee-4b60-a8c4-e3598ec6ab70",
   "metadata": {},
   "source": [
    "# *Libraries and pandas options setup*"
   ]
  },
  {
   "cell_type": "code",
   "execution_count": null,
   "id": "61c79fa9-d3b6-41c8-8f65-6cc5663df7eb",
   "metadata": {},
   "outputs": [],
   "source": [
    "import pandas as pd\n",
    "from datetime import datetime\n",
    "\n",
    "# If you have not installed openpyxl, please uncomment the code below by removing '#'\n",
    "# !pip install openpyxl\n",
    "import openpyxl\n",
    "from openpyxl import Workbook, load_workbook\n",
    "from openpyxl.utils.dataframe import dataframe_to_rows\n",
    "from openpyxl.utils import get_column_letter\n",
    "from openpyxl.styles import Alignment\n",
    "\n",
    "# Option to display all columns of a dataframe\n",
    "pd.set_option('display.max_columns', None)\n",
    "\n",
    "# An option for displaying dataframes in commas while maintaining the datatype. Note that this will not apply to Excel!\n",
    "pd.options.display.float_format = '{:,.0f}'.format\n",
    "\n",
    "# Option to display all rows of a data frame (you may change the max number of rows displayable)\n",
    "pd.options.display.max_rows = 20"
   ]
  },
  {
   "cell_type": "markdown",
   "id": "395222de-fd70-486f-a71f-90cf34e0fd0a",
   "metadata": {},
   "source": [
    "## Openpyxl Tutorial\n",
    "\n",
    "Welcome to the Openpyxl tutorial!  In this notebook, you'll learn how to create excel workbooks that contain your Python dataframes in your desired \n",
    "format.\n",
    "\n",
    "Essentially, you will be learning to use Python to create an automated excel file.\n",
    "\n",
    "Throughout this tutorial, we'll be using the example dataframe shown below:\n",
    "\n",
    "\n",
    "| Numbers                  | Other Numbers            | Strings    | Dates                |\n",
    "|--------------------------|--------------------------|------------|----------------------|\n",
    "| 1,234,567,000,000,000,000| 1,234,567,000,000,000,000| Hello      | 2023-01-01 00:00:00  |\n",
    "| 9,876,543.21             | 9,876,543.21             | World      | 2024-01-01 00:00:00  |\n",
    "| 12,345.67                | 1,234,500,000,000,000,000| DataFrame  | 2025-01-01 00:00:00  |\n",
    "\n",
    "In this tutorial , we will be covering the following:\n",
    "1. Printing a sample dataframe\n",
    "2. Traversal of the worksheet through coordinates\n",
    "3. Applying a number format\n",
    "4. Alignment of columns\n",
    "5. Expanding the column width\n",
    "\n",
    "Note: This is a tentative list, this file will be updated with more features soon. I will also go into more depth with the current features.  |\n"
   ]
  },
  {
   "cell_type": "markdown",
   "id": "8e56878f-aac3-4958-841e-d2d31d85fc8a",
   "metadata": {},
   "source": [
    "# 1. Printing a sample dataframe\n",
    "\n",
    "In this part, we will be setting up the basics of openpyxl. Please go through this part very carefully."
   ]
  },
  {
   "cell_type": "code",
   "execution_count": null,
   "id": "a83a7b66-1fa3-4e42-afbc-df77ed79ebf9",
   "metadata": {},
   "outputs": [],
   "source": [
    "# Our sample dataframe\n",
    "df = pd.DataFrame({'Numbers': [1234567000000000000.89, 9876543.21, 12345.67],\n",
    "                   'Other Numbers': [1234567000000000000.89, 9876543.21, 1234500000000000000.67],\n",
    "                   'Strings': ['Hello', 'World', 'DataFrame'],\n",
    "                   'Dates': [datetime(2023, 1, 1), datetime(2024, 1, 1), datetime(2025, 1, 1)] })\n",
    "\n",
    "\n",
    "# Run the code below only ONCE, if you've already done it before don't do it again (otherwise it'll overwrite EVERYTHING)\n",
    "# If you've already run this once, call the load_workbook function in all subsequent cells (as shown in the next cells)\n",
    "wb = openpyxl.Workbook()\n",
    "# If you want to work with multiple excel files, I'll advise you to create a new workbook variable like wb here.\n",
    "\n",
    "ws = wb.active # Basically we're activating the current workbook for the ws variable. We're keeping the same variable (ws) throughout for consistency purposes.\n",
    "\n",
    "# Change the sheet title\n",
    "ws.title = 'Testing'\n",
    "\n",
    "# Optional, create a new sheet. It will update the first sheet by default.\n",
    "# ws = wb.create_sheet('Sheet_Name')\n",
    "\n",
    "# If you'd like to switch sheets within the same workbook\n",
    "# ws = wb['Sheet_Name'] \n",
    "# Make sure that the switching to already exists. \n",
    "\n",
    "# This is a special loop from the openpyxl library. It loops through the dataframe row by row (horizontally). In this case it loops through the column_names (headers) first.\n",
    "for r in dataframe_to_rows(df, index = False , header = True):\n",
    "    ws.append(r) # Printing the content onto the excel worksheet.\n",
    "        \n",
    "# Save the workbook to an excel output file. If you wanna update the previous notebook, keep the file name the same as before\n",
    "wb.save('sample.xlsx')"
   ]
  },
  {
   "cell_type": "markdown",
   "id": "1198168f-42b4-4409-bafd-d8d532d04652",
   "metadata": {},
   "source": [
    "# 2.Traversal of the worksheet through coordinates\n",
    "\n",
    "For this one I will be using an example where I print another dataframe to the 'right' of my 'current' dataframe\n",
    "\n",
    "Note: When in doubt, just open your excel file and check the coordinates manually if it's too hectic to figure it out by yourself"
   ]
  },
  {
   "cell_type": "code",
   "execution_count": null,
   "id": "b5de06d2-7964-44b4-b800-4fa928c4e981",
   "metadata": {},
   "outputs": [],
   "source": [
    "# Load your updated workbook again and activate the worksheet\n",
    "wb = load_workbook('sample.xlsx')\n",
    "ws = wb.active \n",
    "\n",
    "# New dataframe\n",
    "df_2 = pd.DataFrame({\n",
    "    'Numbers': [2222222222222222222.89, 87654321.12, 54321.76],\n",
    "    'More Numbers': [3333333333333333333.98, 7654321.23, 43210.89],\n",
    "    'Descriptions': ['Sample', 'Data', 'Frame']\n",
    "})\n",
    "\n",
    "# Loop Alert: New loop\n",
    "for i, row in enumerate(dataframe_to_rows(df_2, index = False, header = True), start = 1): # Start is 1 because Excel starts indexing at 1 (otherwise it would start at 0)\n",
    "    for j, value in enumerate(row, start = 1):\n",
    "                                    # Since I wanna print this to the right of my current dataframe, I figure out the column index using the dimensions of my current dataframe\n",
    "        ws.cell(row = i, column = j + (2 + df.shape[1]), value = value)\n",
    "\n",
    "# Saving changes to the workbook\n",
    "wb.save('sample.xlsx')"
   ]
  },
  {
   "cell_type": "markdown",
   "id": "5bd3c8e6-2361-499e-accf-98ac994bff07",
   "metadata": {},
   "source": [
    "# Getting the coordinates of a dataframe"
   ]
  },
  {
   "cell_type": "code",
   "execution_count": null,
   "id": "3a139c2c-14aa-468f-800c-33e4064776a3",
   "metadata": {},
   "outputs": [],
   "source": [
    "# Here's an example of how you can locate the 4 corners coordinates of your dataframe in the excel file\n",
    "\n",
    "# DataFrame dimensions\n",
    "num_rows = df.shape[0]\n",
    "num_cols = df.shape[1]\n",
    "\n",
    "# Coordinates\n",
    "top_left = (1, 1)  # Always row 1, column 1 if starting at the top-left\n",
    "top_right = (1, num_cols)  # Row 1, last column\n",
    "bottom_left = (num_rows, 1)  # Last row, column 1\n",
    "bottom_right = (num_rows, num_cols) # last row, last col\n",
    "\n",
    "# You can always merge these coordinates with the loop shown above to print your dataframes onto the excel file.\n",
    "# And remember, when in doubt just open the file yourself (if it's not too big)."
   ]
  },
  {
   "cell_type": "markdown",
   "id": "9d465fb9-e720-4c78-8b5e-53b1e0f8b7ec",
   "metadata": {},
   "source": [
    "# 3. *Applying a number format*\n",
    "A format that rounds off our numbers to 2 decimals and adds commas to them"
   ]
  },
  {
   "cell_type": "code",
   "execution_count": null,
   "id": "b2b5b672-7882-40f4-b8fc-6412612d3093",
   "metadata": {},
   "outputs": [],
   "source": [
    "# Load your updated workbook again and activate the worksheet\n",
    "wb = load_workbook('sample.xlsx')\n",
    "ws = wb.active \n",
    "\n",
    "# Looping through the sheet. Specify the min row, col (min starts from 1, not 0) and the max row, col. Minimum row is 2 because row 1 represents column titles.\n",
    "for row in ws.iter_rows(min_row=2, min_col=1, max_col = ws.max_column, max_row = ws.max_row):\n",
    "    for cell in row:\n",
    "        try:\n",
    "            if isinstance(cell.value, (int, float)): # If the column is float or int, apply the formatting\n",
    "                    cell.number_format = '#,##0.00'  # Adjust number format as needed, you can add another zero or two\n",
    "        except:\n",
    "            pass # Otherwise just pass through\n",
    "\n",
    "# Saving changes to the workbook\n",
    "wb.save('sample.xlsx')"
   ]
  },
  {
   "cell_type": "markdown",
   "id": "c1e4bd8b-a13b-4b37-9945-83ad5e205e47",
   "metadata": {},
   "source": [
    "# 4. *Changing the alignment of cells*\n",
    " \n",
    "**Horizontal Alignment**\n",
    "- 'left': Aligns text to the left.\n",
    "- 'center': Centers text.\n",
    "- 'centerContinuous': Centers text across multiple cells.\n",
    "- 'justify': Justifies the text.\n",
    "- 'right': Aligns text to the right (our current choice).\n",
    "- 'fill': Repeats the cell content to fill the cell.\n",
    "\n",
    "**Vertical Alignment**\n",
    "- 'top': Aligns text to the top.\n",
    "- 'center': Centers text vertically.\n",
    "- 'bottom': Aligns text to the bottom.\n",
    "- 'justify': Justifies the text vertically."
   ]
  },
  {
   "cell_type": "code",
   "execution_count": null,
   "id": "6438c2dc-2bcf-486f-a173-6bb8fb21d37d",
   "metadata": {},
   "outputs": [],
   "source": [
    "# Load your updated workbook again and activate the worksheet\n",
    "# Note that the file_name must be specified. If it's the same file, use the same name\n",
    "wb = load_workbook('sample.xlsx')\n",
    "ws = wb.active \n",
    "\n",
    "# Iterate through the rows and right align everything\n",
    "# However, you can choose to modify only specific subset of rows by changing the parameters of this loop. This is shown in the numbers cell above\n",
    "for row in ws.iter_rows():\n",
    "    for cell in row:\n",
    "        cell.alignment = Alignment(horizontal = 'right') # Right alignment\n",
    "\n",
    "# Save changes to the workbook\n",
    "wb.save('sample.xlsx')"
   ]
  },
  {
   "cell_type": "markdown",
   "id": "bb727b79-b599-4afa-b80e-c6966e0da880",
   "metadata": {},
   "source": [
    "# 5. *Expanding the column width*"
   ]
  },
  {
   "cell_type": "code",
   "execution_count": null,
   "id": "878491cb-2bd9-44e1-b1f3-c0bb0279c9bd",
   "metadata": {},
   "outputs": [],
   "source": [
    "# Load your workbook again and activate the worksheet\n",
    "wb = load_workbook('sample.xlsx')\n",
    "ws = wb.active\n",
    "\n",
    "# This loop iterates over every column value and sets the width to the largest item in each column.\n",
    "# It ignores empty columns.\n",
    "for col in ws.columns:\n",
    "    max_length = 0\n",
    "    has_non_empty_cells = False\n",
    "    column = get_column_letter(col[0].column)\n",
    "    \n",
    "    for cell in col:\n",
    "        try:\n",
    "            if isinstance(cell.value, (int, float)):\n",
    "                formatted_value = '{:,.2f}'.format(cell.value)\n",
    "                max_length = max(max_length, len(formatted_value))\n",
    "                has_non_empty_cells = True\n",
    "            elif cell.value is not None and str(cell.value).strip() != \"\":\n",
    "                max_length = max(max_length, len(str(cell.value)))\n",
    "                has_non_empty_cells = True\n",
    "        except:\n",
    "            pass\n",
    "    \n",
    "    if has_non_empty_cells:\n",
    "        adjusted_width = max_length + 2\n",
    "        ws.column_dimensions[column].width = adjusted_width\n",
    "\n",
    "\n",
    "# Saving changes to the workbook\n",
    "wb.save('sample.xlsx')"
   ]
  }
 ],
 "metadata": {
  "kernelspec": {
   "display_name": "Python 3 (ipykernel)",
   "language": "python",
   "name": "python3"
  },
  "language_info": {
   "codemirror_mode": {
    "name": "ipython",
    "version": 3
   },
   "file_extension": ".py",
   "mimetype": "text/x-python",
   "name": "python",
   "nbconvert_exporter": "python",
   "pygments_lexer": "ipython3",
   "version": "3.11.7"
  }
 },
 "nbformat": 4,
 "nbformat_minor": 5
}
