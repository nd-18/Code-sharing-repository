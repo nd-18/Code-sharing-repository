{
 "cells": [
  {
   "cell_type": "markdown",
   "id": "0e122e56-c4b6-483c-95b8-961bb11734d9",
   "metadata": {},
   "source": [
    " # Setup"
   ]
  },
  {
   "cell_type": "code",
   "execution_count": 3,
   "id": "bd651141-922b-4d51-8182-2ad0cc2dcd25",
   "metadata": {},
   "outputs": [
    {
     "name": "stdin",
     "output_type": "stream",
     "text": [
      "Enter your name: Ismail Humayun\n"
     ]
    }
   ],
   "source": [
    "import pandas as pd\n",
    "import os\n",
    "import datetime\n",
    "import openpyxl\n",
    "Reviewer = input(\"Enter your name:\")"
   ]
  },
  {
   "cell_type": "markdown",
   "id": "0fac448e-6f37-4704-b715-0a09c462823d",
   "metadata": {},
   "source": [
    "# Master Dataframe"
   ]
  },
  {
   "cell_type": "code",
   "execution_count": 4,
   "id": "dcdd5564-4ffd-4320-b1d7-3291ff0e86d7",
   "metadata": {},
   "outputs": [
    {
     "data": {
      "text/html": [
       "<div>\n",
       "<style scoped>\n",
       "    .dataframe tbody tr th:only-of-type {\n",
       "        vertical-align: middle;\n",
       "    }\n",
       "\n",
       "    .dataframe tbody tr th {\n",
       "        vertical-align: top;\n",
       "    }\n",
       "\n",
       "    .dataframe thead th {\n",
       "        text-align: right;\n",
       "    }\n",
       "</style>\n",
       "<table border=\"1\" class=\"dataframe\">\n",
       "  <thead>\n",
       "    <tr style=\"text-align: right;\">\n",
       "      <th></th>\n",
       "      <th>File Name</th>\n",
       "      <th>File Type</th>\n",
       "      <th>Tab Name</th>\n",
       "      <th>Loss Date</th>\n",
       "      <th>Reported Date</th>\n",
       "      <th>Paid Date</th>\n",
       "    </tr>\n",
       "  </thead>\n",
       "  <tbody>\n",
       "    <tr>\n",
       "      <th>0</th>\n",
       "      <td>MotorDetCLAIMSOF-2024 M03.xlsm</td>\n",
       "      <td>xlsm</td>\n",
       "      <td>All Claims</td>\n",
       "      <td>Date Occurred</td>\n",
       "      <td>Date Declared</td>\n",
       "      <td>-</td>\n",
       "    </tr>\n",
       "    <tr>\n",
       "      <th>1</th>\n",
       "      <td>OS.Recoveries P&amp;C as at Mar.xlsm</td>\n",
       "      <td>xlsm</td>\n",
       "      <td>-</td>\n",
       "      <td>Date of Loss</td>\n",
       "      <td>Date Declared</td>\n",
       "      <td>-</td>\n",
       "    </tr>\n",
       "  </tbody>\n",
       "</table>\n",
       "</div>"
      ],
      "text/plain": [
       "                          File Name File Type    Tab Name      Loss Date  \\\n",
       "0    MotorDetCLAIMSOF-2024 M03.xlsm      xlsm  All Claims  Date Occurred   \n",
       "1  OS.Recoveries P&C as at Mar.xlsm      xlsm           -   Date of Loss   \n",
       "\n",
       "   Reported Date Paid Date  \n",
       "0  Date Declared         -  \n",
       "1  Date Declared         -  "
      ]
     },
     "execution_count": 4,
     "metadata": {},
     "output_type": "execute_result"
    }
   ],
   "source": [
    "directory = r'C:\\Users\\Muhammad.Ismail\\Downloads\\ASF\\IFRS 4\\Data'\n",
    "os.chdir(directory)\n",
    "master_df = pd.read_excel(\"output_dataframe.xlsx\")\n",
    "master_df"
   ]
  },
  {
   "cell_type": "markdown",
   "id": "5f9bd079-b195-4638-b6fe-9cb0305c0096",
   "metadata": {},
   "source": [
    "# Checks"
   ]
  },
  {
   "cell_type": "code",
   "execution_count": 6,
   "id": "bb7e537e-62ae-4098-9de0-8dda743bfb2d",
   "metadata": {},
   "outputs": [
    {
     "name": "stdout",
     "output_type": "stream",
     "text": [
      "\n",
      "\n",
      "Serial Number: 0\n",
      "File Name: MotorDetCLAIMSOF-2024 M03.xlsm\n",
      "Tab Name: All Claims\n",
      "Number of Rows: 6362\n",
      "Reviewer: Ismail Humayun\n",
      "\n",
      "           Statistics Check_1 Check_2\n",
      "0        Pass Values    6362       -\n",
      "1    Pass Percentage    100%       -\n",
      "2        Fail Values       0       -\n",
      "3    Fail Percentage      0%       -\n",
      "4  Corrective Action    None       -\n",
      "\n",
      "\n",
      "Serial Number: 1\n",
      "File Name: OS.Recoveries P&C as at Mar.xlsm\n",
      "Tab Name: -\n",
      "Number of Rows: 24\n",
      "Reviewer: Ismail Humayun\n",
      "\n",
      "           Statistics Check_1 Check_2\n",
      "0        Pass Values      24       -\n",
      "1    Pass Percentage    100%       -\n",
      "2        Fail Values       0       -\n",
      "3    Fail Percentage      0%       -\n",
      "4  Corrective Action    None       -\n"
     ]
    }
   ],
   "source": [
    "for index, row in master_df.iterrows(): \n",
    "    if master_df.loc[index, \"File Type\"] != \"xlsb\" and master_df.loc[index, \"Tab Name\"] != \"-\":\n",
    "        file = pd.read_excel(master_df.loc[index, \"File Name\"], sheet_name = master_df.loc[index, \"Tab Name\"])\n",
    "    elif master_df.loc[index, \"File Type\"] != \"xlsb\" and master_df.loc[index, \"Tab Name\"] == \"-\":\n",
    "        file = pd.read_excel(master_df.loc[index, \"File Name\"])\n",
    "    elif master_df.loc[index, \"File Type\"] == \"xlsb\" and master_df.loc[index, \"Tab Name\"] != \"-\":\n",
    "        file = pd.read_excel(master_df.loc[index, \"File Name\"], sheet_name = master_df.loc[index, \"Tab Name\"], engine = 'pyxl')\n",
    "    elif master_df.loc[index, \"File Type\"] == \"xlsb\" and master_df.loc[index, \"Tab Name\"] == \"-\":\n",
    "            file = pd.read_excel(master_df.loc[index, \"File Name\"], engine = 'pyxl')\n",
    "\n",
    "\n",
    "    file['Check 1'] = file[master_df.loc[index, \"Loss Date\"]] <= file[master_df.loc[index, \"Reported Date\"]]\n",
    "    check_1 = (file['Check 1'] == False).sum()   \n",
    "    rows = file.shape[0]\n",
    "    Pass = rows - check_1\n",
    "    pass_percent = (Pass / rows) * 100\n",
    "    pass_percent_str = str(int(pass_percent)) + \"%\"\n",
    "    fail_percent = (check_1/rows) * 100\n",
    "    fail_percent_str = str(int(fail_percent)) + \"%\"\n",
    "    \n",
    "    data = {\n",
    "    'Statistics': ['Pass Values', 'Pass Percentage', 'Fail Values', 'Fail Percentage', 'Corrective Action'],\n",
    "    'Check_1': [Pass, pass_percent_str, check_1, fail_percent_str, 'None']\n",
    "    }\n",
    "    \n",
    "    data_df = pd.DataFrame(data)\n",
    "    data_df['Check_2'] = '-'\n",
    "    \n",
    "    print(\"\\n\")\n",
    "    print(\"Serial Number:\", index)\n",
    "    print(\"File Name:\", master_df.loc[index, \"File Name\"])\n",
    "    print(\"Tab Name:\", master_df.loc[index, \"Tab Name\"])\n",
    "    print(\"Number of Rows:\", rows)\n",
    "    print(\"Reviewer:\", Reviewer)\n",
    "    print(\"\\n\", data_df)"
   ]
  }
 ],
 "metadata": {
  "kernelspec": {
   "display_name": "Python 3 (ipykernel)",
   "language": "python",
   "name": "python3"
  },
  "language_info": {
   "codemirror_mode": {
    "name": "ipython",
    "version": 3
   },
   "file_extension": ".py",
   "mimetype": "text/x-python",
   "name": "python",
   "nbconvert_exporter": "python",
   "pygments_lexer": "ipython3",
   "version": "3.11.7"
  }
 },
 "nbformat": 4,
 "nbformat_minor": 5
}
