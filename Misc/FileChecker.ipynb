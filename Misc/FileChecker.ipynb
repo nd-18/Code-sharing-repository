{
 "cells": [
  {
   "cell_type": "markdown",
   "id": "6ee82d81-48fc-4e0e-af7f-40ebaa7728ac",
   "metadata": {},
   "source": [
    "Note: There are 3 different inputs required for this code to work. The following variables must be input:\n",
    "1. directory_path: You need to input the directory of the file you would like to compare\n",
    "2. string_to_add: This variable adds a string after the file names. For example if you would like to add 'Q4 2024' after the file names then change this variable to that.\n",
    "3. file_list: This is our list of files. You need to manually type the names of the files in this python list. This will be compared with the file names in our directory."
   ]
  },
  {
   "cell_type": "markdown",
   "id": "566442e7-2db2-4565-93c0-73bf5ca05b71",
   "metadata": {},
   "source": [
    "# Input Variables"
   ]
  },
  {
   "cell_type": "code",
   "execution_count": 1,
   "id": "384f46c4-8723-40f0-aeb1-af4d9a25631c",
   "metadata": {},
   "outputs": [],
   "source": [
    "directory_path = r'C:\\Users\\Muhammad.Ismail\\Downloads\\Python'\n",
    "string_to_add = 'Q1 2024'\n",
    "file_list = ['file1.txt', 'file2.pdf', 'file3.jpg', 'file4.docx']"
   ]
  },
  {
   "cell_type": "code",
   "execution_count": 8,
   "id": "c859e984-f97d-45ef-83d9-30e10fe5f427",
   "metadata": {},
   "outputs": [],
   "source": [
    "import pandas as pd\n",
    "import os\n",
    "\n",
    "# The OS library is usually used for navigating through the directory"
   ]
  },
  {
   "cell_type": "markdown",
   "id": "2ee50912-3ad3-41b5-b7e2-f3c48e60212c",
   "metadata": {},
   "source": [
    "# Gathering file names from directory"
   ]
  },
  {
   "cell_type": "code",
   "execution_count": 9,
   "id": "c0b2b48c-dfc1-45ec-9e0f-3b7fff03ce04",
   "metadata": {},
   "outputs": [],
   "source": [
    "def list_files_in_directory(directory_path):\n",
    "    file_names = []\n",
    "    try:\n",
    "        # Walk through the directory tree\n",
    "        for root, dirs, files in os.walk(directory_path):\n",
    "            for file in files:\n",
    "                # Add the file name to the list\n",
    "                file_names.append(file)\n",
    "    except FileNotFoundError:\n",
    "        print(f\"The directory {directory_path} does not exist.\")\n",
    "    except Exception as e:\n",
    "        print(f\"An error occurred: {e}\")\n",
    "    return file_names\n",
    "\n",
    "def concatenate_and_restore_extension(file_names, string_to_add):\n",
    "    new_file_names = []\n",
    "    for file_name in file_names:\n",
    "        name, ext = os.path.splitext(file_name)  # Split the name and extension\n",
    "        new_file_name = f\"{name}_{string_to_add}{ext}\"  # Concatenate string and add extension back\n",
    "        new_file_names.append(new_file_name)\n",
    "    return new_file_names\n",
    "\n",
    "file_names_list = list_files_in_directory(directory_path)\n",
    "new_file_names_list = concatenate_and_restore_extension(file_names_list, string_to_add)\n",
    "\n",
    "# Uncomment this to print your file names\n",
    "#new_file_names_list"
   ]
  },
  {
   "cell_type": "markdown",
   "id": "507c3287-97dc-4e53-bbe0-da51aee73d61",
   "metadata": {},
   "source": [
    "# File Comparison"
   ]
  },
  {
   "cell_type": "code",
   "execution_count": 10,
   "id": "311e7ef8-95d2-45f6-bc74-06e43ea8ea9c",
   "metadata": {},
   "outputs": [
    {
     "name": "stdout",
     "output_type": "stream",
     "text": [
      "The lists are not equal.\n"
     ]
    }
   ],
   "source": [
    "def compare_file_lists(list1, list2):\n",
    "    return set(list1) == set(list2)\n",
    "\n",
    "\n",
    "are_equal = compare_file_lists(new_file_names_list, file_list)\n",
    "\n",
    "print(\"The lists are equal:\" if are_equal else \"The lists are not equal.\")"
   ]
  },
  {
   "cell_type": "markdown",
   "id": "cbc6421c-573f-4eed-9da0-51085dbb716c",
   "metadata": {},
   "source": [
    "# Missing Files"
   ]
  },
  {
   "cell_type": "code",
   "execution_count": 11,
   "id": "ab62224f-9811-4b13-b93e-4221ac788fb4",
   "metadata": {},
   "outputs": [
    {
     "name": "stdout",
     "output_type": "stream",
     "text": [
      "The following files are missing in the other list:\n",
      "file3.jpg\n",
      "file1.txt\n",
      "file2.pdf\n",
      "file4.docx\n"
     ]
    }
   ],
   "source": [
    "def find_missing_files(list1, list2):\n",
    "    set1 = set(list1)\n",
    "    set2 = set(list2)\n",
    "    \n",
    "    missing_files = set1 - set2\n",
    "    \n",
    "    return list(missing_files)\n",
    "\n",
    "\n",
    "missing_files = find_missing_files(file_list, new_file_names_list)\n",
    "\n",
    "if missing_files:\n",
    "    print(\"The following files are missing in the other list:\")\n",
    "    for file in missing_files:\n",
    "        print(file)\n",
    "else:\n",
    "    print(\"No files are missing in the other list.\")"
   ]
  }
 ],
 "metadata": {
  "kernelspec": {
   "display_name": "Python 3 (ipykernel)",
   "language": "python",
   "name": "python3"
  },
  "language_info": {
   "codemirror_mode": {
    "name": "ipython",
    "version": 3
   },
   "file_extension": ".py",
   "mimetype": "text/x-python",
   "name": "python",
   "nbconvert_exporter": "python",
   "pygments_lexer": "ipython3",
   "version": "3.11.7"
  }
 },
 "nbformat": 4,
 "nbformat_minor": 5
}
