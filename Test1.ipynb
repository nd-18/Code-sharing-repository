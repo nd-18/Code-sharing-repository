{
 "cells": [
  {
   "cell_type": "code",
   "execution_count": 4,
   "id": "f55f8fa9-9abe-4b94-85af-95a2148dd070",
   "metadata": {},
   "outputs": [],
   "source": [
    " # comment 4"
   ]
  },
  {
   "cell_type": "code",
   "execution_count": 2,
   "id": "0a46f75b-6026-4f9b-a8f9-63ee2be30dfa",
   "metadata": {},
   "outputs": [],
   "source": [
    "# comment 1"
   ]
  },
  {
   "cell_type": "code",
   "execution_count": 3,
   "id": "01005ab4-57d5-41e9-b725-7aa85b3ec684",
   "metadata": {},
   "outputs": [],
   "source": [
    "# comment 3"
   ]
  },
  {
   "cell_type": "code",
   "execution_count": null,
   "id": "9e293c2f-274b-48a5-a152-410847de0281",
   "metadata": {},
   "outputs": [],
   "source": []
  }
 ],
 "metadata": {
  "kernelspec": {
   "display_name": "Python 3 (ipykernel)",
   "language": "python",
   "name": "python3"
  },
  "language_info": {
   "codemirror_mode": {
    "name": "ipython",
    "version": 3
   },
   "file_extension": ".py",
   "mimetype": "text/x-python",
   "name": "python",
   "nbconvert_exporter": "python",
   "pygments_lexer": "ipython3",
   "version": "3.11.7"
  }
 },
 "nbformat": 4,
 "nbformat_minor": 5
}
