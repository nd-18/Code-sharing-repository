{
 "cells": [
  {
   "cell_type": "code",
   "execution_count": 1,
   "id": "f55f8fa9-9abe-4b94-85af-95a2148dd070",
   "metadata": {},
   "outputs": [],
   "source": [
    " # comment"
   ]
  },
  {
   "cell_type": "code",
   "execution_count": null,
   "id": "0a46f75b-6026-4f9b-a8f9-63ee2be30dfa",
   "metadata": {},
   "outputs": [],
   "source": [
    "# comment 1"
   ]
  }
 ],
 "metadata": {
  "kernelspec": {
   "display_name": "Python 3 (ipykernel)",
   "language": "python",
   "name": "python3"
  },
  "language_info": {
   "codemirror_mode": {
    "name": "ipython",
    "version": 3
   },
   "file_extension": ".py",
   "mimetype": "text/x-python",
   "name": "python",
   "nbconvert_exporter": "python",
   "pygments_lexer": "ipython3",
   "version": "3.11.7"
  }
 },
 "nbformat": 4,
 "nbformat_minor": 5
}
